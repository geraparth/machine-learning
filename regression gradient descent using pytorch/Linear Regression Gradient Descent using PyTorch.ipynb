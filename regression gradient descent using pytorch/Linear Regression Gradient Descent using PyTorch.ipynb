{
 "cells": [
  {
   "cell_type": "markdown",
   "metadata": {},
   "source": [
    "\n",
    "### Project Title : Linear Regression Gradient Descent using Pytorch ###\n",
    "Code Owner : Parth Gera\n",
    "* gera2@illinois.edu\n",
    "* https://github.com/geraparth\n",
    "* https://www.linkedin.com/in/parth-gera-6161aa107/\n",
    "\n"
   ]
  },
  {
   "cell_type": "markdown",
   "metadata": {},
   "source": [
    "#### This script is an example of how one can implement linear regression gradient descent using Pytorch. The learning rate/stepsize here has been decided basis the maximum eigen value of the Hessian of the input variables. Using optimization theory, one can prove that it is the optimal step size one should use for L-smooth functions ####\n",
    "\n",
    "#### The data used for this excercise is the real estate price prediction from : https://www.kaggle.com/quantbruce/real-estate-price-prediction ###"
   ]
  },
  {
   "cell_type": "code",
   "execution_count": 85,
   "metadata": {},
   "outputs": [],
   "source": [
    "import torch\n",
    "import numpy as np\n",
    "import pandas as pd\n",
    "from sklearn.model_selection import train_test_split\n",
    "from torch.autograd import Variable\n",
    "import matplotlib.pyplot as plt"
   ]
  },
  {
   "cell_type": "code",
   "execution_count": 86,
   "metadata": {},
   "outputs": [],
   "source": [
    "def getdata():\n",
    "\n",
    "    \"\"\"\n",
    "    To take input data from repository, split into test and train, convert into tensor\n",
    "\n",
    "    Parameters:\n",
    "\n",
    "\n",
    "    Returns:\n",
    "            train_x_ten : Tensor containing x parameters of the training set of the model\n",
    "            val_x_ten : Tensor containing x parameters of the validation set of the model\n",
    "            train_y_ten : Tensor containing y variable of the training set of the model\n",
    "            val_y_ten : Tensor containing y variable of the validation set of the model\n",
    "\n",
    "    \"\"\"\n",
    "    \n",
    "    #Reading csv from directory and filtering x and y variables\n",
    "    data = pd.read_csv('Real estate.csv')\n",
    "    x_columns = ['X1 transaction date', 'X2 house age', 'X3 distance to the nearest MRT station'\n",
    "                 ,'X4 number of convenience stores', 'X5 latitude', 'X6 longitude']\n",
    "    data_y = data['Y house price of unit area']\n",
    "    data_x = data[x_columns]\n",
    "\n",
    "    #Splitting train and validation set and converting to tensors\n",
    "    train_x, val_x, train_y, val_y = train_test_split(data_x, data_y, test_size=0.25, random_state=10)\n",
    "    train_x_ten = torch.from_numpy(np.array(train_x).astype(np.float32))\n",
    "    val_x_ten = torch.from_numpy(np.array(val_x).astype(np.float32))\n",
    "    train_y_ten = torch.from_numpy(np.array(train_y).astype(np.float32)).reshape((len(train_y), 1))\n",
    "    val_y_ten = torch.from_numpy(np.array(val_y).astype(np.float32)).reshape((len(val_y), 1))\n",
    "\n",
    "    return train_x_ten, val_x_ten, train_y_ten, val_y_ten"
   ]
  },
  {
   "cell_type": "code",
   "execution_count": 87,
   "metadata": {},
   "outputs": [],
   "source": [
    "def linear_gd(X, Y, lrate):\n",
    "\n",
    "    \"\"\"\n",
    "    To take X-train and y-train as inputs and return the weight parameters after executing gradient descent\n",
    "\n",
    "    Parameters:\n",
    "            X : Tensor (train) with all X parameters\n",
    "            Y : Tensor (train) with the y variable\n",
    "\n",
    "\n",
    "    Returns:\n",
    "            weight : Tensor containing estimated weights of all the variables parameters minimizing loss \n",
    "    \"\"\"\n",
    "    \n",
    "    #Getting data points (n) and dimensions (d)\n",
    "    n = X.size()[0]\n",
    "    d = X.size()[1]\n",
    "    \n",
    "    #Defining variables for GD. Also incorporating the bias term into input\n",
    "    y_pred = Variable(torch.zeros((n, 1)))\n",
    "    weight = Variable(torch.zeros((d+1, 1)), requires_grad = True)\n",
    "    loss = Variable(torch.zeros([1]))\n",
    "    bias_term = torch.ones((n, 1))\n",
    "    X_input = torch.cat((bias_term, X), 1)\n",
    "    losses = {}\n",
    "    num_iter = 0\n",
    "    loss_delta = 10\n",
    "\n",
    "    #Stopping criteria for gradient descent. The range of last 10 avg. losses should be < 10e-3\n",
    "    while loss_delta > 0.001:\n",
    "\n",
    "        y_pred = torch.matmul(X_input, weight)\n",
    "        loss = (1.0/(2.0*n))*sum((y_pred - Y)**2)\n",
    "        loss.backward()\n",
    "        weight.data -= lrate*weight.grad.data\n",
    "        weight.grad = None\n",
    "        losses[num_iter] = loss.detach().numpy()\n",
    "        num_iter += 1\n",
    "\n",
    "        #Print losses for every 1000th iteration, and evaluate stopping criteria\n",
    "        if num_iter%1000 == 0:\n",
    "\n",
    "            print(\"Iteration:\", num_iter)\n",
    "            print(\"Loss is:\", loss)\n",
    "            loss_delta = max(list(losses.values())[-10:]) - min(list(losses.values())[-10:])\n",
    "\n",
    "    return weight, losses"
   ]
  },
  {
   "cell_type": "code",
   "execution_count": 88,
   "metadata": {},
   "outputs": [],
   "source": [
    "def make_predictions(X, weights):\n",
    "   \n",
    "    \"\"\"\n",
    "    To make predictions on the train/validation set using weight matrix obtained from gradient descent\n",
    "\n",
    "    Parameters:\n",
    "            X : Tensor (train/validation) with all X parameters\n",
    "            weights : Tensor with the weights obtained from GD\n",
    "\n",
    "\n",
    "    Returns:\n",
    "            predictions : Tensor containing predictions for the train/validation set \n",
    "    \"\"\"\n",
    "    n = X.size()[0]\n",
    "    bias_term = torch.ones((n, 1))\n",
    "    X_input = torch.cat((bias_term, X), 1)\n",
    "    predictions = torch.matmul(X_input, weights)\n",
    "    \n",
    "    return predictions"
   ]
  },
  {
   "cell_type": "code",
   "execution_count": 89,
   "metadata": {},
   "outputs": [],
   "source": [
    "def mape_calc(Y_pred, Y):\n",
    "    \"\"\"\n",
    "    To calculate mean absolute percentage error of the prediction vs actual\n",
    "\n",
    "    Parameters:\n",
    "            Y_pred : Tensor with predictions\n",
    "            Y : Tensor with the actual values\n",
    "\n",
    "\n",
    "    Returns:\n",
    "            A float value which is the mean absolute percentage error\n",
    "    \"\"\"\n",
    "    \n",
    "    return (sum(abs(Y_pred  - Y)*100.00/Y)/(Y.size()[0])).detach().numpy()    "
   ]
  },
  {
   "cell_type": "code",
   "execution_count": 90,
   "metadata": {},
   "outputs": [],
   "source": [
    "#Loading dataset\n",
    "x_train, x_val, y_train, y_val = getdata()"
   ]
  },
  {
   "cell_type": "code",
   "execution_count": 91,
   "metadata": {},
   "outputs": [
    {
     "name": "stdout",
     "output_type": "stream",
     "text": [
      "Iteration: 1000\n",
      "Loss is: tensor([113.4755], grad_fn=<MulBackward0>)\n",
      "Iteration: 2000\n",
      "Loss is: tensor([67.2855], grad_fn=<MulBackward0>)\n",
      "Iteration: 3000\n",
      "Loss is: tensor([55.0822], grad_fn=<MulBackward0>)\n",
      "Iteration: 4000\n",
      "Loss is: tensor([51.8010], grad_fn=<MulBackward0>)\n",
      "Iteration: 5000\n",
      "Loss is: tensor([50.9184], grad_fn=<MulBackward0>)\n",
      "Iteration: 6000\n",
      "Loss is: tensor([50.6807], grad_fn=<MulBackward0>)\n",
      "Iteration: 7000\n",
      "Loss is: tensor([50.6164], grad_fn=<MulBackward0>)\n"
     ]
    },
    {
     "data": {
      "text/plain": [
       "Text(0.5, 1.0, 'Gradient Descent Loss curve')"
      ]
     },
     "execution_count": 91,
     "metadata": {},
     "output_type": "execute_result"
    },
    {
     "data": {
      "image/png": "[encoded data removed]",
      "text/plain": [
       "<Figure size 432x288 with 1 Axes>"
      ]
     },
     "metadata": {
      "needs_background": "light"
     },
     "output_type": "display_data"
    }
   ],
   "source": [
    "#Deciding on learning rate\n",
    "hessian = torch.matmul(x_train.T, x_train)\n",
    "eigen_values = torch.linalg.eig(hessian)\n",
    "#Using non-linear optimization theory\n",
    "max_lr = 1/max(torch.real(eigen_values[0]))\n",
    "\n",
    "#Running gradient descent\n",
    "X_run = GradientDescent \n",
    "weight, losses = X_run.linear_gd(x_train, y_train, max_lr)\n",
    "plt.plot(losses.keys(), losses.values())\n",
    "plt.xlabel('Iterations')\n",
    "plt.ylabel('Avg. Loss')\n",
    "plt.title('Gradient Descent Loss curve')"
   ]
  },
  {
   "cell_type": "code",
   "execution_count": 92,
   "metadata": {},
   "outputs": [],
   "source": [
    "#Making Predictions\n",
    "train_pred = make_predictions(x_train, weight)\n",
    "val_pred = make_predictions(x_val, weight)"
   ]
  },
  {
   "cell_type": "code",
   "execution_count": 93,
   "metadata": {},
   "outputs": [
    {
     "name": "stdout",
     "output_type": "stream",
     "text": [
      "Train error is:  21.969053 %\n",
      "Validation error is:  23.56081 %\n"
     ]
    }
   ],
   "source": [
    "#Train Test Accuracy\n",
    "train_error = mape_calc(train_pred, y_train)\n",
    "val_error = mape_calc(val_pred, y_val)\n",
    "\n",
    "print(\"Train error is: \", train_error[0], \"%\")\n",
    "print(\"Validation error is: \", val_error[0], \"%\")"
   ]
  }
 ],
 "metadata": {
  "kernelspec": {
   "display_name": "Python 3",
   "language": "python",
   "name": "python3"
  },
  "language_info": {
   "codemirror_mode": {
    "name": "ipython",
    "version": 3
   },
   "file_extension": ".py",
   "mimetype": "text/x-python",
   "name": "python",
   "nbconvert_exporter": "python",
   "pygments_lexer": "ipython3",
   "version": "3.8.5"
  }
 },
 "nbformat": 4,
 "nbformat_minor": 4
}
